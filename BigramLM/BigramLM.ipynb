{
  "nbformat": 4,
  "nbformat_minor": 0,
  "metadata": {
    "colab": {
      "provenance": []
    },
    "kernelspec": {
      "name": "python3",
      "display_name": "Python 3"
    },
    "language_info": {
      "name": "python"
    }
  },
  "cells": [
    {
      "cell_type": "code",
      "execution_count": 14,
      "metadata": {
        "colab": {
          "base_uri": "https://localhost:8080/"
        },
        "id": "geCSyToAkM5m",
        "outputId": "0b3509c1-eb7b-4231-d37c-17729b7f2f50"
      },
      "outputs": [
        {
          "output_type": "stream",
          "name": "stdout",
          "text": [
            "--2023-03-12 20:46:22--  https://raw.githubusercontent.com/karpathy/char-rnn/master/data/tinyshakespeare/input.txt\n",
            "Resolving raw.githubusercontent.com (raw.githubusercontent.com)... 185.199.108.133, 185.199.109.133, 185.199.110.133, ...\n",
            "Connecting to raw.githubusercontent.com (raw.githubusercontent.com)|185.199.108.133|:443... connected.\n",
            "HTTP request sent, awaiting response... 200 OK\n",
            "Length: 1115394 (1.1M) [text/plain]\n",
            "Saving to: ‘input.txt.1’\n",
            "\n",
            "\rinput.txt.1           0%[                    ]       0  --.-KB/s               \rinput.txt.1         100%[===================>]   1.06M  --.-KB/s    in 0.04s   \n",
            "\n",
            "2023-03-12 20:46:23 (29.4 MB/s) - ‘input.txt.1’ saved [1115394/1115394]\n",
            "\n"
          ]
        }
      ],
      "source": [
        "!wget  https://raw.githubusercontent.com/karpathy/char-rnn/master/data/tinyshakespeare/input.txt"
      ]
    },
    {
      "cell_type": "code",
      "source": [
        "with open('input.txt', 'r', encoding='utf-8') as f:\n",
        "  text = f.read()"
      ],
      "metadata": {
        "id": "hwmNFHSElESL"
      },
      "execution_count": 97,
      "outputs": []
    },
    {
      "cell_type": "code",
      "source": [
        "print(\"length of data set in characters: \", len(text))"
      ],
      "metadata": {
        "colab": {
          "base_uri": "https://localhost:8080/"
        },
        "id": "Z6M0QQiSlQep",
        "outputId": "d9f60684-a1aa-46c3-97e6-64bd47474789"
      },
      "execution_count": 98,
      "outputs": [
        {
          "output_type": "stream",
          "name": "stdout",
          "text": [
            "length of data set in characters:  1115394\n"
          ]
        }
      ]
    },
    {
      "cell_type": "code",
      "source": [
        "print(text[:100])"
      ],
      "metadata": {
        "colab": {
          "base_uri": "https://localhost:8080/"
        },
        "id": "J7XrpIVKlRkw",
        "outputId": "d39264ac-c3b4-4a7f-8c87-013f8cd18855"
      },
      "execution_count": 99,
      "outputs": [
        {
          "output_type": "stream",
          "name": "stdout",
          "text": [
            "First Citizen:\n",
            "Before we proceed any further, hear me speak.\n",
            "\n",
            "All:\n",
            "Speak, speak.\n",
            "\n",
            "First Citizen:\n",
            "You\n"
          ]
        }
      ]
    },
    {
      "cell_type": "code",
      "source": [
        "# unique character occurred in text\n",
        "chars = sorted(list(set(text)))\n",
        "vocab_size = len(chars)\n",
        "print(''.join(chars))\n",
        "print(vocab_size)"
      ],
      "metadata": {
        "colab": {
          "base_uri": "https://localhost:8080/"
        },
        "id": "ypBv0bnwmyZA",
        "outputId": "630be794-4cc3-457e-fb2f-64fa329e4efd"
      },
      "execution_count": 100,
      "outputs": [
        {
          "output_type": "stream",
          "name": "stdout",
          "text": [
            "\n",
            " !$&',-.3:;?ABCDEFGHIJKLMNOPQRSTUVWXYZabcdefghijklmnopqrstuvwxyz\n",
            "65\n"
          ]
        }
      ]
    },
    {
      "cell_type": "code",
      "source": [
        "# create a mapping from characters to integers\n",
        "stoi = {ch:i for i,ch in enumerate(chars)}\n",
        "itos = {i:ch for i,ch in enumerate(chars)}\n",
        "# encoder : take a string return a list of integer\n",
        "encode = lambda s : [stoi[c] for c in s]\n",
        "#decoder : take a list of integer and return a string\n",
        "decode = lambda l: ''.join([itos[i] for i in l])\n",
        "\n",
        "print(encode('hi there'))\n",
        "print(decode(encode('hi there')))"
      ],
      "metadata": {
        "colab": {
          "base_uri": "https://localhost:8080/"
        },
        "id": "EZf5Z41ynLs0",
        "outputId": "95f63c82-6faa-45f7-ade7-d869f8f0d577"
      },
      "execution_count": 101,
      "outputs": [
        {
          "output_type": "stream",
          "name": "stdout",
          "text": [
            "[46, 47, 1, 58, 46, 43, 56, 43]\n",
            "hi there\n"
          ]
        }
      ]
    },
    {
      "cell_type": "code",
      "source": [
        "# lets encode the complete shakespere and store it in tensor\n",
        "import torch\n",
        "data = torch.tensor(encode(text), dtype=torch.long)\n",
        "print(data.shape, data.dtype)\n",
        "print(data[:100])"
      ],
      "metadata": {
        "colab": {
          "base_uri": "https://localhost:8080/"
        },
        "id": "SpgkGIGfpBYo",
        "outputId": "332c9cd4-2711-450a-e084-0c61cb725bf0"
      },
      "execution_count": 102,
      "outputs": [
        {
          "output_type": "stream",
          "name": "stdout",
          "text": [
            "torch.Size([1115394]) torch.int64\n",
            "tensor([18, 47, 56, 57, 58,  1, 15, 47, 58, 47, 64, 43, 52, 10,  0, 14, 43, 44,\n",
            "        53, 56, 43,  1, 61, 43,  1, 54, 56, 53, 41, 43, 43, 42,  1, 39, 52, 63,\n",
            "         1, 44, 59, 56, 58, 46, 43, 56,  6,  1, 46, 43, 39, 56,  1, 51, 43,  1,\n",
            "        57, 54, 43, 39, 49,  8,  0,  0, 13, 50, 50, 10,  0, 31, 54, 43, 39, 49,\n",
            "         6,  1, 57, 54, 43, 39, 49,  8,  0,  0, 18, 47, 56, 57, 58,  1, 15, 47,\n",
            "        58, 47, 64, 43, 52, 10,  0, 37, 53, 59])\n"
          ]
        }
      ]
    },
    {
      "cell_type": "code",
      "source": [
        "# lets separate the dataset into train and test set\n",
        "partition_point = int(0.9*data.shape[0])\n",
        "train_data = data[:partition_point]\n",
        "val_data = data[partition_point:]"
      ],
      "metadata": {
        "id": "a3ip0oP_qkuV"
      },
      "execution_count": 103,
      "outputs": []
    },
    {
      "cell_type": "code",
      "source": [
        "block_size = 8\n",
        "train_data[:block_size+1]"
      ],
      "metadata": {
        "colab": {
          "base_uri": "https://localhost:8080/"
        },
        "id": "qjgfIXIprEjz",
        "outputId": "415d76c1-f413-4741-96ec-3f7c6d3b4e7d"
      },
      "execution_count": 104,
      "outputs": [
        {
          "output_type": "execute_result",
          "data": {
            "text/plain": [
              "tensor([18, 47, 56, 57, 58,  1, 15, 47, 58])"
            ]
          },
          "metadata": {},
          "execution_count": 104
        }
      ]
    },
    {
      "cell_type": "code",
      "source": [
        "x = train_data[:block_size]\n",
        "y = train_data[1:block_size+1]\n",
        "for t in range(block_size):\n",
        "  context = x[:t+1]\n",
        "  target = y[t]\n",
        "  print(f\"when input is {context} output is {target}\")"
      ],
      "metadata": {
        "colab": {
          "base_uri": "https://localhost:8080/"
        },
        "id": "9XjNbidIsFlH",
        "outputId": "fbbe4a6c-974f-4dc9-eaee-fbdc33536e24"
      },
      "execution_count": 105,
      "outputs": [
        {
          "output_type": "stream",
          "name": "stdout",
          "text": [
            "when input is tensor([18]) output is 47\n",
            "when input is tensor([18, 47]) output is 56\n",
            "when input is tensor([18, 47, 56]) output is 57\n",
            "when input is tensor([18, 47, 56, 57]) output is 58\n",
            "when input is tensor([18, 47, 56, 57, 58]) output is 1\n",
            "when input is tensor([18, 47, 56, 57, 58,  1]) output is 15\n",
            "when input is tensor([18, 47, 56, 57, 58,  1, 15]) output is 47\n",
            "when input is tensor([18, 47, 56, 57, 58,  1, 15, 47]) output is 58\n"
          ]
        }
      ]
    },
    {
      "cell_type": "code",
      "source": [
        "torch.manual_seed(1337)\n",
        "batch_size = 4\n",
        "block_size = 8\n",
        "\n",
        "def get_batch(split):\n",
        "  data = train_data if split == 'train' else val_data\n",
        "  ix = torch.randint(len(data) - block_size, (batch_size,))\n",
        "  x= torch.stack([data[i:i+block_size] for i in ix])\n",
        "  y = torch.stack([data[i+1:i+1+block_size] for i in ix])\n",
        "  return x,y\n",
        "\n",
        "xb,yb=get_batch('train')\n",
        "print(f\"inputs: {xb.shape} targets: {yb.shape}\")\n",
        "print(f\"inputs: \\n{xb} \\ntargets: \\n{yb}\")\n",
        "\n",
        "print('-----')\n",
        "\n",
        "for b in range(batch_size):\n",
        "  for t in range(block_size):\n",
        "    context = xb[b,:t+1]\n",
        "    target = yb[b, t]\n",
        "    print(f\"when input is {context.tolist()} output is {target}\")"
      ],
      "metadata": {
        "colab": {
          "base_uri": "https://localhost:8080/"
        },
        "id": "k_pxMywuyfff",
        "outputId": "53aedec9-8b09-4312-cca2-04351cccad41"
      },
      "execution_count": 107,
      "outputs": [
        {
          "output_type": "stream",
          "name": "stdout",
          "text": [
            "inputs: torch.Size([4, 8]) targets: torch.Size([4, 8])\n",
            "inputs: \n",
            "tensor([[24, 43, 58,  5, 57,  1, 46, 43],\n",
            "        [44, 53, 56,  1, 58, 46, 39, 58],\n",
            "        [52, 58,  1, 58, 46, 39, 58,  1],\n",
            "        [25, 17, 27, 10,  0, 21,  1, 54]]) \n",
            "targets: \n",
            "tensor([[43, 58,  5, 57,  1, 46, 43, 39],\n",
            "        [53, 56,  1, 58, 46, 39, 58,  1],\n",
            "        [58,  1, 58, 46, 39, 58,  1, 46],\n",
            "        [17, 27, 10,  0, 21,  1, 54, 39]])\n",
            "-----\n",
            "when input is [24] output is 43\n",
            "when input is [24, 43] output is 58\n",
            "when input is [24, 43, 58] output is 5\n",
            "when input is [24, 43, 58, 5] output is 57\n",
            "when input is [24, 43, 58, 5, 57] output is 1\n",
            "when input is [24, 43, 58, 5, 57, 1] output is 46\n",
            "when input is [24, 43, 58, 5, 57, 1, 46] output is 43\n",
            "when input is [24, 43, 58, 5, 57, 1, 46, 43] output is 39\n",
            "when input is [44] output is 53\n",
            "when input is [44, 53] output is 56\n",
            "when input is [44, 53, 56] output is 1\n",
            "when input is [44, 53, 56, 1] output is 58\n",
            "when input is [44, 53, 56, 1, 58] output is 46\n",
            "when input is [44, 53, 56, 1, 58, 46] output is 39\n",
            "when input is [44, 53, 56, 1, 58, 46, 39] output is 58\n",
            "when input is [44, 53, 56, 1, 58, 46, 39, 58] output is 1\n",
            "when input is [52] output is 58\n",
            "when input is [52, 58] output is 1\n",
            "when input is [52, 58, 1] output is 58\n",
            "when input is [52, 58, 1, 58] output is 46\n",
            "when input is [52, 58, 1, 58, 46] output is 39\n",
            "when input is [52, 58, 1, 58, 46, 39] output is 58\n",
            "when input is [52, 58, 1, 58, 46, 39, 58] output is 1\n",
            "when input is [52, 58, 1, 58, 46, 39, 58, 1] output is 46\n",
            "when input is [25] output is 17\n",
            "when input is [25, 17] output is 27\n",
            "when input is [25, 17, 27] output is 10\n",
            "when input is [25, 17, 27, 10] output is 0\n",
            "when input is [25, 17, 27, 10, 0] output is 21\n",
            "when input is [25, 17, 27, 10, 0, 21] output is 1\n",
            "when input is [25, 17, 27, 10, 0, 21, 1] output is 54\n",
            "when input is [25, 17, 27, 10, 0, 21, 1, 54] output is 39\n"
          ]
        }
      ]
    },
    {
      "cell_type": "code",
      "source": [
        "# reset a variable\n",
        "#%reset_selective -f len\n",
        "# reset all variables\n",
        "#%reset"
      ],
      "metadata": {
        "id": "6udmEy2h6eRU"
      },
      "execution_count": 25,
      "outputs": []
    },
    {
      "cell_type": "markdown",
      "source": [
        "![image.png](data:image/png;base64,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)"
      ],
      "metadata": {
        "id": "KnyycV_DDpZY"
      }
    },
    {
      "cell_type": "code",
      "source": [
        "# BiGram language model\n",
        "import torch\n",
        "import torch.nn as nn\n",
        "import math\n",
        "from torch.nn import functional as F\n",
        "torch.manual_seed(1337)\n",
        "\n",
        "class BigramLanguageModel(nn.Module):\n",
        "  def __init__(self, vocab_size):\n",
        "    super().__init__()\n",
        "    # create a embedding table of dimension vocab_size\n",
        "    self.token_embedding_table = nn.Embedding(vocab_size, vocab_size)\n",
        "    # we will learn the probability of next character in ith channel hence hidden_size==vocab_size\n",
        "  \n",
        "  def forward(self, idx, targets = None):\n",
        "    #size idx (B,T) Batch,Time,Channel\n",
        "    logits = self.token_embedding_table(idx) # (B,T,C)\n",
        "    if targets == None:\n",
        "      loss = None\n",
        "    else:\n",
        "      B,T,C = logits.shape\n",
        "      logits = logits.view(B*T, C)\n",
        "      targets = targets.view(B*T)\n",
        "      loss = F.cross_entropy(logits, targets) # expects (B,C,T)\n",
        "    return logits, loss\n",
        "  \n",
        "  def generate(self, idx, max_new_tokens):\n",
        "    for _ in range(max_new_tokens):\n",
        "      logits,_ = self(idx) #(B,T,C)\n",
        "      logits = logits[:,-1,:] #(B,C)\n",
        "      prob = F.softmax(logits, dim=-1)\n",
        "      idx_next = torch.multinomial(prob, num_samples=1) #(B,1)\n",
        "      idx = torch.cat((idx, idx_next), dim=1) #(B,T+1)\n",
        "    return idx\n",
        "\n",
        "m = BigramLanguageModel(vocab_size)\n",
        "logits, loss = m(xb, yb)\n",
        "print(logits.shape)\n",
        "\n",
        "print(f\"expected loss {-math.log(1/vocab_size)} actual loss {loss}\")\n",
        "idx = torch.zeros((1,1), dtype=torch.long)\n",
        "print(decode(m.generate(idx, max_new_tokens=100)[0].tolist()))"
      ],
      "metadata": {
        "colab": {
          "base_uri": "https://localhost:8080/"
        },
        "id": "zW7fypzn7Jsy",
        "outputId": "759c849e-672d-405c-c8a1-c9d80b5e13b2"
      },
      "execution_count": 111,
      "outputs": [
        {
          "output_type": "stream",
          "name": "stdout",
          "text": [
            "torch.Size([32, 65])\n",
            "expected loss 4.174387269895637 actual loss 4.878634929656982\n",
            "\n",
            "SKIcLT;AcELMoTbvZv C?nq-QE33:CJqkOKH-q;:la!oiywkHjgChzbQ?u!3bLIgwevmyFJGUGp\n",
            "wnYWmnxKWWev-tDqXErVKLgJ\n"
          ]
        }
      ]
    },
    {
      "cell_type": "code",
      "source": [
        "optimizer = torch.optim.AdamW(m.parameters(), lr=1e-3)"
      ],
      "metadata": {
        "id": "cKiPGCJC_p0s"
      },
      "execution_count": 112,
      "outputs": []
    },
    {
      "cell_type": "code",
      "source": [
        "batch_size = 32\n",
        "for steps in range(10000):\n",
        "  xb, yb = get_batch('train')\n",
        "  logits, loss = m(xb, yb)\n",
        "  optimizer.zero_grad(set_to_none=True)\n",
        "  loss.backward()\n",
        "  optimizer.step()\n",
        "  if steps % 1000 == 0:\n",
        "    print(loss.item())"
      ],
      "metadata": {
        "colab": {
          "base_uri": "https://localhost:8080/"
        },
        "id": "26RGmbfq_w9S",
        "outputId": "9545a4ad-72b2-479f-b7d6-d62ab7260d3a"
      },
      "execution_count": 113,
      "outputs": [
        {
          "output_type": "stream",
          "name": "stdout",
          "text": [
            "4.692410945892334\n",
            "3.7637593746185303\n",
            "3.2342259883880615\n",
            "2.892245292663574\n",
            "2.703908681869507\n",
            "2.5153486728668213\n",
            "2.4889943599700928\n",
            "2.514069080352783\n",
            "2.444497585296631\n",
            "2.3975775241851807\n"
          ]
        }
      ]
    },
    {
      "cell_type": "code",
      "source": [
        "print(decode(m.generate(idx, max_new_tokens=400)[0].tolist()))"
      ],
      "metadata": {
        "colab": {
          "base_uri": "https://localhost:8080/"
        },
        "id": "2wpJT3qER2NH",
        "outputId": "74ec653d-cef1-4dce-eac7-ab2275b73f61"
      },
      "execution_count": 114,
      "outputs": [
        {
          "output_type": "stream",
          "name": "stdout",
          "text": [
            "\n",
            "lso br. ave aviasurf my, yxMPZI ivee iuedrd whar ksth y h bora s be hese, woweee; the! KI 'de, ulseecherd d o blllando;LUCEO, oraingofof win!\n",
            "RIfans picspeserer hee tha,\n",
            "TOFonk? me ain ckntoty ded. bo'llll st ta d:\n",
            "ELIS me hurf lal y, ma dus pe athouo\n",
            "BEY:! Indy; by s afreanoo adicererupa anse tecorro llaus a!\n",
            "OLeneerithesinthengove fal amas trr\n",
            "TI ar I t, mes, n IUSt my w, fredeeyove\n",
            "THek' merer,\n"
          ]
        }
      ]
    },
    {
      "cell_type": "code",
      "source": [
        "# visualize the learnt bigram model, show the probabilities for next characters\n",
        "import matplotlib.pyplot as plt\n",
        "import numpy as np\n",
        "def softmax(x):\n",
        "  exp_x = np.exp(x)\n",
        "  return exp_x/np.sum(exp_x)\n",
        "example = encode('A')\n",
        "context = torch.tensor(example)\n",
        "context = context.view(-1,1)\n",
        "logits,_ = m(context)\n",
        "weights = softmax(logits[0][0].tolist())\n",
        "\n",
        "fig = plt.figure(figsize = (20,10))\n",
        "x = [i for i in range(65)]\n",
        "plt.bar(x, weights)\n",
        "#plt.barh(x, weights)\n",
        "\n",
        "\n",
        "characters = decode(x)\n",
        "plt.xticks(x, characters)\n",
        "plt.show()\n",
        "\n",
        "\n",
        "\n"
      ],
      "metadata": {
        "id": "CE8J2_iYRFfU",
        "colab": {
          "base_uri": "https://localhost:8080/",
          "height": 592
        },
        "outputId": "334e7207-3922-4768-ea89-78c8a104138d"
      },
      "execution_count": 115,
      "outputs": [
        {
          "output_type": "display_data",
          "data": {
            "text/plain": [
              "<Figure size 1440x720 with 1 Axes>"
            ],
            "image/png": "[encoded data removed]"
          },
          "metadata": {
            "needs_background": "light"
          }
        }
      ]
    },
    {
      "cell_type": "code",
      "source": [],
      "metadata": {
        "id": "i9sEYYNxkXPT"
      },
      "execution_count": 89,
      "outputs": []
    },
    {
      "cell_type": "code",
      "source": [],
      "metadata": {
        "id": "XKcYxGHsx2uO"
      },
      "execution_count": null,
      "outputs": []
    }
  ]
}